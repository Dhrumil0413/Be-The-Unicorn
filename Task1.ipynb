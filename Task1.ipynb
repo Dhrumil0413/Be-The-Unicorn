{
 "cells": [
  {
   "cell_type": "code",
   "execution_count": 2,
   "metadata": {},
   "outputs": [
    {
     "name": "stdout",
     "output_type": "stream",
     "text": [
      "Valid Password\n"
     ]
    }
   ],
   "source": [
    "import re\n",
    "def PwordChecker(pword):\n",
    "    if (len(pword) < 10):\n",
    "        return\n",
    "    \n",
    "    if not re.search(r'[A-Z].*[A-Z]', pword) or not re.search(r'[a-z].*[a-z]', pword):\n",
    "        return 'Invalid Password'\n",
    "    if not re.search(r'\\d', pword) or not re.search(r'[!@#$%^&*()_+-={};:\\'\",.<>?\\/\\[\\]\\\\]', pword * 3): \n",
    "        return 'Invalid Password'\n",
    "    \n",
    "    return \"Valid Password\"\n",
    "\n",
    "\n",
    "pword = input(\"Enter your password: \")\n",
    "\n",
    "Output = PwordChecker(pword)\n",
    "print(Output)\n",
    "\n",
    "\n",
    "\n"
   ]
  },
  {
   "cell_type": "code",
   "execution_count": 4,
   "metadata": {},
   "outputs": [
    {
     "name": "stdout",
     "output_type": "stream",
     "text": [
      "The input starts with:  False\n",
      "Is input numberic:  True\n"
     ]
    }
   ],
   "source": [
    "Input = input(\"Enter a String: \")\n",
    "\n",
    "starts = lambda string, letter: string.startswith(letter)\n",
    "print(\"The input starts with: \", starts(Input, 'Hello There'))\n",
    "\n",
    "Input = input(\"Enter a string: \")\n",
    "isNumeric = lambda Input: Input.isdigit()\n",
    "print(\"Is input numberic: \", isNumeric(Input))\n"
   ]
  },
  {
   "cell_type": "code",
   "execution_count": 8,
   "metadata": {},
   "outputs": [
    {
     "name": "stdout",
     "output_type": "stream",
     "text": [
      "[('orange', 80), ('mango', 99), ('grapes', 1000)]\n"
     ]
    }
   ],
   "source": [
    "tupledlist = [(\"mango\",99),(\"orange\",80), (\"grapes\", 1000)]\n",
    "tupledlist.sort(key = lambda x: x[1])\n",
    "print(tupledlist)"
   ]
  },
  {
   "cell_type": "code",
   "execution_count": 13,
   "metadata": {},
   "outputs": [
    {
     "name": "stdout",
     "output_type": "stream",
     "text": [
      "[1, 4, 9, 16, 25, 36, 49, 64, 81, 100]\n"
     ]
    }
   ],
   "source": [
    "intlist = list(range(1, 11))\n",
    "\n",
    "SquaredList = list(map(lambda x: x**2, intlist))\n",
    "\n",
    "print(SquaredList)"
   ]
  },
  {
   "cell_type": "code",
   "execution_count": 14,
   "metadata": {},
   "outputs": [
    {
     "name": "stdout",
     "output_type": "stream",
     "text": [
      "[1.0, 1.2598919398737178, 1.442196755504422, 1.5873277001587598, 1.7098842124667966, 1.817012067972048, 1.9128071070563357, 1.999861375368307, 2.079931481587481, 2.1542693374042363]\n"
     ]
    }
   ],
   "source": [
    "CubeRooted = list(map(lambda x: x**0.3333, intlist))\n",
    "print(CubeRooted)"
   ]
  },
  {
   "cell_type": "code",
   "execution_count": 17,
   "metadata": {},
   "outputs": [
    {
     "name": "stdout",
     "output_type": "stream",
     "text": [
      "Is an even integer\n"
     ]
    }
   ],
   "source": [
    "integer = int(input(\"Enter an Integer: \"))\n",
    "\n",
    "if integer % 2 == 0:\n",
    "    print(\"Is an even integer\")\n",
    "else:\n",
    "    print(\"Is not an even integer\")\n"
   ]
  },
  {
   "cell_type": "code",
   "execution_count": 19,
   "metadata": {},
   "outputs": [
    {
     "name": "stdout",
     "output_type": "stream",
     "text": [
      "[1, 3, 5, 7, 9]\n"
     ]
    }
   ],
   "source": [
    "intlist = list(range(1,11))\n",
    "\n",
    "FiltList = list(filter(lambda x: x % 2 != 0, intlist))\n",
    "\n",
    "print(FiltList)"
   ]
  },
  {
   "cell_type": "code",
   "execution_count": 20,
   "metadata": {},
   "outputs": [
    {
     "name": "stdout",
     "output_type": "stream",
     "text": [
      "[1, 2, 3, 4, 5, 6, 0]\n",
      "[-1, -2, -3, -4, -5]\n"
     ]
    }
   ],
   "source": [
    "intlist = [1,2,3,4,5,6,-1,-2,-3,-4,-5,0]\n",
    "\n",
    "PosList = list(filter(lambda x: x >= 0, intlist))\n",
    "NegList = list(filter(lambda x: x < 0, intlist))\n",
    "print(PosList)\n",
    "print(NegList)"
   ]
  },
  {
   "cell_type": "code",
   "execution_count": null,
   "metadata": {},
   "outputs": [],
   "source": []
  }
 ],
 "metadata": {
  "kernelspec": {
   "display_name": "Python 3",
   "language": "python",
   "name": "python3"
  },
  "language_info": {
   "codemirror_mode": {
    "name": "ipython",
    "version": 3
   },
   "file_extension": ".py",
   "mimetype": "text/x-python",
   "name": "python",
   "nbconvert_exporter": "python",
   "pygments_lexer": "ipython3",
   "version": "3.11.2"
  },
  "orig_nbformat": 4
 },
 "nbformat": 4,
 "nbformat_minor": 2
}
