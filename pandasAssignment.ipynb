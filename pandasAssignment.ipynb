{
 "cells": [
  {
   "cell_type": "code",
   "execution_count": 1,
   "metadata": {},
   "outputs": [
    {
     "name": "stdout",
     "output_type": "stream",
     "text": [
      "0     4\n",
      "1     8\n",
      "2    15\n",
      "3    16\n",
      "4    23\n",
      "5    42\n",
      "dtype: int64\n"
     ]
    }
   ],
   "source": [
    "import pandas as pd\n",
    "#Question 1\n",
    "numlist = [4, 8, 15, 16, 23, 42]\n",
    "pdseries = pd.Series(numlist)\n"
   ]
  },
  {
   "cell_type": "code",
   "execution_count": 14,
   "metadata": {},
   "outputs": [
    {
     "name": "stdout",
     "output_type": "stream",
     "text": [
      "a        Naruto\n",
      "b     Shipudden\n",
      "c        Boruto\n",
      "d            10\n",
      "e        Bleach\n",
      "f      OnePiece\n",
      "g          zoro\n",
      "h         Luffy\n",
      "i     DeathNote\n",
      "j    DragonBall\n",
      "dtype: object\n"
     ]
    }
   ],
   "source": [
    "#Question 2\n",
    "EleSeries = [\"Naruto\", \"Shipudden\", \"Boruto\", 10, \"Bleach\", \"OnePiece\", \"zoro\", \"Luffy\", \"DeathNote\", \"DragonBall\"]\n",
    "string = 'a,b,c,d,e,f,g,h,i,j'\n",
    "keylist = string.split(',')\n",
    "FramedElements = pd.Series(EleSeries, index = keylist)\n",
    "print(FramedElements)"
   ]
  },
  {
   "cell_type": "code",
   "execution_count": 12,
   "metadata": {},
   "outputs": [
    {
     "name": "stdout",
     "output_type": "stream",
     "text": [
      "     Name  Age  Gender\n",
      "0   Alice   25  Female\n",
      "1     Bob   30    Male\n",
      "2  Claire   27  Female\n"
     ]
    }
   ],
   "source": [
    "#Questino 3\n",
    "\n",
    "data = {\n",
    "    \"Name\" : [\"Alice\", 'Bob', \"Claire\"],\n",
    "    \"Age\" : [25, 30, 27],\n",
    "    \"Gender\": [\"Female\", \"Male\", \"Female\"]\n",
    "}\n",
    "\n",
    "FramedData = pd.DataFrame(data)\n",
    "print(FramedData)"
   ]
  },
  {
   "cell_type": "code",
   "execution_count": 15,
   "metadata": {},
   "outputs": [
    {
     "name": "stdout",
     "output_type": "stream",
     "text": [
      "a        Naruto\n",
      "b     Shipudden\n",
      "c        Boruto\n",
      "d            10\n",
      "e        Bleach\n",
      "f      OnePiece\n",
      "g          zoro\n",
      "h         Luffy\n",
      "i     DeathNote\n",
      "j    DragonBall\n",
      "dtype: object\n",
      "This is difference between Series and DataFrame\n",
      "     Name  Age  Gender\n",
      "0   Alice   25  Female\n",
      "1     Bob   30    Male\n",
      "2  Claire   27  Female\n"
     ]
    }
   ],
   "source": [
    "#Question  4\n",
    "\"\"\"\n",
    "-> The Series has only single column, whereas data frame can have 2d like table. Where we can include mutliple columns.\n",
    "\"\"\"\n",
    "EleSeries = [\"Naruto\", \"Shipudden\", \"Boruto\", 10, \"Bleach\", \"OnePiece\", \"zoro\", \"Luffy\", \"DeathNote\", \"DragonBall\"]\n",
    "string = 'a,b,c,d,e,f,g,h,i,j'\n",
    "keylist = string.split(',')\n",
    "FramedElements = pd.Series(EleSeries, index = keylist)\n",
    "print(FramedElements)\n",
    "\n",
    "print(\"This is difference between Series and DataFrame\")\n",
    "\n",
    "data = {\n",
    "    \"Name\" : [\"Alice\", 'Bob', \"Claire\"],\n",
    "    \"Age\" : [25, 30, 27],\n",
    "    \"Gender\": [\"Female\", \"Male\", \"Female\"]\n",
    "}\n",
    "\n",
    "FramedData = pd.DataFrame(data)\n",
    "print(FramedData)\n"
   ]
  },
  {
   "cell_type": "code",
   "execution_count": 48,
   "metadata": {},
   "outputs": [
    {
     "name": "stdout",
     "output_type": "stream",
     "text": [
      "<class 'pandas.core.frame.DataFrame'>\n",
      "RangeIndex: 6 entries, 0 to 5\n",
      "Data columns (total 4 columns):\n",
      " #   Column  Non-Null Count  Dtype \n",
      "---  ------  --------------  ----- \n",
      " 0   x1      6 non-null      object\n",
      " 1   x2      6 non-null      int64 \n",
      " 2   x3      6 non-null      object\n",
      " 3   x4      6 non-null      int64 \n",
      "dtypes: int64(2), object(2)\n",
      "memory usage: 216.0+ bytes\n",
      "  x1  x2      x4\n",
      "0  x  15  Naruto\n",
      "1  z  16      18\n",
      "2  x  17      16\n",
      "3  y  18      14\n",
      "4  x  19      12\n",
      "5  x  20      10\n"
     ]
    }
   ],
   "source": [
    "#Question 5\n",
    "from copy import deepcopy\n",
    "\n",
    "ObjectData = {\"x1\":[\"x\", \"y\", \"x\", \"y\", \"x\", \"x\"],  \n",
    "                     \"x2\":list(range(15, 21)),\n",
    "                     \"x3\":[\"a\", \"b\", \"c\", \"d\", \"e\", \"f\"],\n",
    "                     \"x4\":list(range(20, 8, - 2))}\n",
    "x1list = deepcopy(ObjectData['x1'])\n",
    "x2list = deepcopy(ObjectData['x2'])\n",
    "x3list = deepcopy(ObjectData['x3'])\n",
    "x4list = deepcopy(ObjectData['x4'])\n",
    "x4list[0] = 'Naruto'\n",
    "data = pd.DataFrame(ObjectData)         \n",
    "\n",
    "data.describe() #Generates desciriptive statistics of Data\n",
    "\n",
    "data.info() # Descirbes Summary of Data\n",
    "\n",
    "data['x4'] = x4list\n",
    "\n",
    "data.at[1, 'x1'] = 'z'\n",
    "\n",
    "data = data.drop('x3', axis = 1)\n",
    "\n",
    "print(data)"
   ]
  },
  {
   "cell_type": "code",
   "execution_count": null,
   "metadata": {},
   "outputs": [],
   "source": [
    "# Question 6\n",
    "\"-> Panel is mutable in nature\""
   ]
  },
  {
   "cell_type": "code",
   "execution_count": 3,
   "metadata": {},
   "outputs": [
    {
     "name": "stdout",
     "output_type": "stream",
     "text": [
      "                 0      1   2\n",
      "0      DataScience  10000  25\n",
      "1  JavaProgramming  20000  45\n",
      "2  MachineLearning  30000  50\n"
     ]
    }
   ],
   "source": [
    "# Question 7\n",
    "import pandas as pd\n",
    "courselist = [\"DataScience\", \"JavaProgramming\", \"MachineLearning\"]\n",
    "feeslist = [10000, 20000, 30000]\n",
    "discountlist = [25, 45, 50]\n",
    "\n",
    "courses = pd.Series(courselist)\n",
    "fees = pd.Series(feeslist)\n",
    "discounts = pd.Series(discountlist)\n",
    "\n",
    "FramedData = pd.concat([courses, fees, discounts], axis = 1)\n",
    "\n",
    "print(FramedData)"
   ]
  },
  {
   "cell_type": "code",
   "execution_count": null,
   "metadata": {},
   "outputs": [],
   "source": []
  }
 ],
 "metadata": {
  "kernelspec": {
   "display_name": "Python 3",
   "language": "python",
   "name": "python3"
  },
  "language_info": {
   "codemirror_mode": {
    "name": "ipython",
    "version": 3
   },
   "file_extension": ".py",
   "mimetype": "text/x-python",
   "name": "python",
   "nbconvert_exporter": "python",
   "pygments_lexer": "ipython3",
   "version": "3.11.2"
  },
  "orig_nbformat": 4
 },
 "nbformat": 4,
 "nbformat_minor": 2
}
