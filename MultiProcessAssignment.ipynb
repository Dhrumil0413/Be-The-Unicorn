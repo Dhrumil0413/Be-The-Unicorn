{
 "cells": [
  {
   "cell_type": "code",
   "execution_count": null,
   "metadata": {},
   "outputs": [],
   "source": [
    "#Question 1\n",
    "\"\"\"\n",
    "-> Process is instance of python interpreter. Which decides how to execute the program. And multiprocessing is method through which interpreter runs many processes concurrently.\n",
    "\"\"\""
   ]
  },
  {
   "cell_type": "code",
   "execution_count": null,
   "metadata": {},
   "outputs": [],
   "source": [
    "#Question 2\n",
    "\"\"\"\n",
    "-> Multiprocess uses multi core processors where programs can run parallely. On the other hand Multithreading creates threads for target functions and runs multiple threads concurrently in a single processor.\n",
    "-> Multiprocess outshines multithreading when there is no input/output or user interaction procedures in a program.\n",
    "-> Multithreading has GIL Global Interpreter Lock which makes input/output \n",
    "\"\"\""
   ]
  },
  {
   "cell_type": "code",
   "execution_count": 15,
   "metadata": {},
   "outputs": [],
   "source": [
    "#Question 3\n",
    "import multiprocessing\n",
    "\n",
    "def square(x):\n",
    "    x = x**2\n",
    "    print(x)\n",
    "    return x\n",
    "\n",
    "\n",
    "if __name__ == '__main__':\n",
    "    process = multiprocessing.Process(target = square, args = (10, ))\n",
    "    process.start()\n",
    "    process.join()\n",
    "\n",
    "\n"
   ]
  },
  {
   "cell_type": "code",
   "execution_count": null,
   "metadata": {},
   "outputs": [],
   "source": [
    "# Question 4\n",
    "\n",
    "\"Pool is just like targetting a Process. But we can create a pool of process with a Pool Instance. Which will carry out tasks submitted to it with the Pool Class.\""
   ]
  },
  {
   "cell_type": "code",
   "execution_count": null,
   "metadata": {},
   "outputs": [],
   "source": [
    "# Question 5\n",
    "\n",
    "import multiprocessing\n",
    "\n",
    "def foo(x):\n",
    "    print('This is the just to foo person named', x)\n",
    "\n",
    "if __name__ == '__main__':\n",
    "    with multiprocessing.Pool(5) as p:\n",
    "        plist = list(p)\n",
    "        print(plist)"
   ]
  },
  {
   "cell_type": "code",
   "execution_count": null,
   "metadata": {},
   "outputs": [],
   "source": [
    "# Question 5\n",
    "\n",
    "import random\n",
    "import multiprocessing\n",
    "\n",
    "def printNum(x):\n",
    "    print(\"This is the random number\", x)\n",
    "\n",
    "\n",
    "if __name__ == '__main__':\n",
    "    processes = []\n",
    "    for i in range(4):\n",
    "        x = random.randint(1,20)\n",
    "        p = multiprocessing.Process(target = printNum, args= (x, ))\n",
    "        processes.append(p)\n",
    "\n",
    "    for i in processes:\n",
    "        i.start()\n"
   ]
  }
 ],
 "metadata": {
  "kernelspec": {
   "display_name": "Python 3",
   "language": "python",
   "name": "python3"
  },
  "language_info": {
   "codemirror_mode": {
    "name": "ipython",
    "version": 3
   },
   "file_extension": ".py",
   "mimetype": "text/x-python",
   "name": "python",
   "nbconvert_exporter": "python",
   "pygments_lexer": "ipython3",
   "version": "3.11.2"
  },
  "orig_nbformat": 4
 },
 "nbformat": 4,
 "nbformat_minor": 2
}
