{
 "cells": [
  {
   "cell_type": "code",
   "execution_count": 7,
   "metadata": {},
   "outputs": [
    {
     "data": {
      "text/plain": [
       "'\\n-> Multithreading is used in programming to execute a function or block of code simultaniously with differnet programs.\\n--threading-- module is used to leverage concept of Multithreading at higher level.\\n'"
      ]
     },
     "execution_count": 7,
     "metadata": {},
     "output_type": "execute_result"
    }
   ],
   "source": [
    "# Question 1\n",
    "\"\"\"\n",
    "-> Multithreading is used in programming to execute a function or block of code simultaniously with differnet programs.\n",
    "--threading-- module is used to leverage concept of Multithreading at higher level.\n",
    "\"\"\""
   ]
  },
  {
   "cell_type": "code",
   "execution_count": 9,
   "metadata": {},
   "outputs": [
    {
     "name": "stdout",
     "output_type": "stream",
     "text": [
      "6\n",
      "<_MainThread(MainThread, started 10412)>\n",
      "[<_MainThread(MainThread, started 10412)>, <Thread(IOPub, started daemon 6012)>, <Heartbeat(Heartbeat, started daemon 24104)>, <ControlThread(Control, started daemon 22816)>, <HistorySavingThread(IPythonHistorySavingThread, started 22432)>, <ParentPollerWindows(Thread-10, started daemon 22596)>]\n"
     ]
    }
   ],
   "source": [
    "# Question 2\n",
    "\"Threading module is used to achieve multithreading in program.\"\n",
    "\n",
    "import threading\n",
    "value = 0\n",
    "\n",
    "def MathFunc(x):\n",
    "    global Variable\n",
    "    Variable += x\n",
    "\n",
    "    print(Variable)\n",
    "\n",
    "thread = [threading.Thread(target = MathFunc, args = (i, )) for i in range(100)]\n",
    "\n",
    "print(threading.active_count()) # Returns number of threads in use in list which is returned by enumerate()\n",
    "print(threading.current_thread()) # Returns current thread in use according to caller's control.\n",
    "print(threading.enumerate()) #Returns list of threads currently in use"
   ]
  },
  {
   "cell_type": "code",
   "execution_count": 10,
   "metadata": {},
   "outputs": [
    {
     "name": "stdout",
     "output_type": "stream",
     "text": [
      "1\n"
     ]
    }
   ],
   "source": [
    "# Question 3\n",
    "\"\"\"\n",
    "run() and start() both method are used to execute the target function in thread. But start() method creates new thread and then executese it. On the other hand run() method executes target function in same provided thread. In addition, you can inheirte (Thread) class in used defined class and override run() method.\n",
    "\"\"\"\n",
    "\n",
    "\"\"\"\n",
    "join() -> During the course of execution of thread. This method just keeps code waiting till thread terminates.\n",
    "isAlive() -> returns boolean value that if thread is alive. It starts to return True from starting of run() method till it terminates.\n",
    "\"\"\"\n",
    "\n",
    "\n",
    "def printf(x):\n",
    "    print(x)\n",
    "\n",
    "thread = threading.Thread(target = printf, args = (1, ))\n",
    "\n",
    "thread.run()"
   ]
  },
  {
   "cell_type": "code",
   "execution_count": 24,
   "metadata": {},
   "outputs": [
    {
     "name": "stdout",
     "output_type": "stream",
     "text": [
      "\n",
      "1, \n",
      "8, \n",
      "27, \n",
      "64, \n",
      "125, \n",
      "216, \n",
      "343, \n",
      "512, \n",
      "729, "
     ]
    },
    {
     "name": "stdout",
     "output_type": "stream",
     "text": [
      "1, 4, 9, 16, 25, 36, 49, 64, 81, "
     ]
    }
   ],
   "source": [
    "import time\n",
    "def printSquares(x):\n",
    "    print(x**2, end = ', ')\n",
    "\n",
    "def printCubes(x):\n",
    "    print(x**3, end = ', ')\n",
    "\n",
    "thread1 = [threading.Thread(target = printSquares, args = (i, )) for i in range(10)]\n",
    "thread2 = [threading.Thread(target = printCubes, args = (i, )) for i in range(10)]\n",
    "\n",
    "for i in range(1, 10):\n",
    "    thread1[i].start()\n",
    "    print()\n",
    "    thread2[i].start()"
   ]
  },
  {
   "cell_type": "code",
   "execution_count": 25,
   "metadata": {},
   "outputs": [],
   "source": [
    "# Question 5\n",
    "\"\"\"\n",
    "-> Advantages: We can use multithreading to create thread that runs concurently with program. So efficienty can be acheived in user experience.\n",
    "-> Disadvantages: But we variables and operations that are relational would cause problems cause functions run simultaneously. It increases the complexity of program, and makes it hard to debug code. Mutlithreading increases memory usage because thread might require different memory space in stack.\n",
    "\"\"\""
   ]
  },
  {
   "cell_type": "code",
   "execution_count": null,
   "metadata": {},
   "outputs": [],
   "source": [
    "# Question 6\n",
    "\"\"\"\n",
    "-> Deadlock: is situation when two threads runs simultaneously and both are waiting for each other's output. And where both programs get stuck.\n",
    "-> Race Conditions: where different programs rely or modify same data and cause problem in timing that when right data is modified.\n",
    "\"\"\""
   ]
  }
 ],
 "metadata": {
  "kernelspec": {
   "display_name": "Python 3",
   "language": "python",
   "name": "python3"
  },
  "language_info": {
   "codemirror_mode": {
    "name": "ipython",
    "version": 3
   },
   "file_extension": ".py",
   "mimetype": "text/x-python",
   "name": "python",
   "nbconvert_exporter": "python",
   "pygments_lexer": "ipython3",
   "version": "3.11.2"
  },
  "orig_nbformat": 4
 },
 "nbformat": 4,
 "nbformat_minor": 2
}
