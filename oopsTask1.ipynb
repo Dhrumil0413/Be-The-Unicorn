{
 "cells": [
  {
   "cell_type": "code",
   "execution_count": 11,
   "metadata": {},
   "outputs": [
    {
     "name": "stdout",
     "output_type": "stream",
     "text": [
      "('Mustang', 2)\n"
     ]
    }
   ],
   "source": [
    "# Question 1\n",
    "class Vehicle:\n",
    "    def __init__(self, name, MaxSpeed, AverageSpeed):\n",
    "        self.name = name\n",
    "        self.MaxSpeed = MaxSpeed\n",
    "        self.AverageSpeed = AverageSpeed\n",
    "\n",
    "\n",
    "class Car(Vehicle):\n",
    "    Seat_Capacity = None\n",
    "    def __init__(self, name, MaxSpeed, AverageSpeed, Seat_Capacity):\n",
    "        Vehicle.__init__(self, name, MaxSpeed, AverageSpeed)\n",
    "        self.Seat_Capacity = Seat_Capacity\n",
    "\n",
    "    def seating_capacity(self, Seating_Capacity):\n",
    "        return self.name, self.Seat_Capacity\n",
    "    \n",
    "\n",
    "Mustang = Car(\"Mustang\", 290, 210, 2)\n",
    "print(Mustang.seating_capacity(20))\n",
    "\n"
   ]
  },
  {
   "cell_type": "code",
   "execution_count": 12,
   "metadata": {},
   "outputs": [],
   "source": [
    "#Question 3\n",
    "\"\"\"Multiple Inheritance: In which more than one parent calass are inherited into a child class.\"\"\"\n",
    "\n",
    "class Companies:\n",
    "    Company_Name = None\n",
    "    Company_Location = None\n",
    "    Company_CEO = None\n",
    "    def __init__(self, name, location, ceo):\n",
    "        self.Company_Name = name\n",
    "        self.Company_Location = location\n",
    "        self.Company_CEO = ceo\n",
    "\n",
    "class InsuranceCompanies():\n",
    "    CarInsurancePlans = None\n",
    "    def __init__(self, insuranceList):\n",
    "        self.CarInsurancePlans = insuranceList\n",
    "\n",
    "class CarCompanies(Companies, InsuranceCompanies):\n",
    "    CarModels = None\n",
    "    def __init__(self, name, location, ceo, Carlist, insuranceList):\n",
    "        Companies.__init__(self, name, location, ceo)\n",
    "        InsuranceCompanies.__init_subclass__(insuranceList)\n",
    "        self.CarModels = Carlist"
   ]
  },
  {
   "cell_type": "code",
   "execution_count": 13,
   "metadata": {},
   "outputs": [
    {
     "name": "stdout",
     "output_type": "stream",
     "text": [
      "Round Peddles\n",
      "Geared Chains\n"
     ]
    }
   ],
   "source": [
    "#Question 4 -> When we define private or protected varibles in order for users to indirectly use them or set their value we use getters and setters\n",
    "\n",
    "class Vehicle:\n",
    "    Name = None\n",
    "    Tires = None\n",
    "    seats = None\n",
    "    __engineName = None\n",
    "\n",
    "    def __init__(self, Name, Tires, seats, engineName):\n",
    "        self.Name = Name\n",
    "        self.Tires = Tires\n",
    "        self.seats = seats\n",
    "        self.__engineName = engineName\n",
    "\n",
    "    def setEngineName(self, engineName):\n",
    "        self.__engineName = engineName\n",
    "\n",
    "    def getEngineName(self):\n",
    "        return self.__engineName\n",
    "\n",
    "\n",
    "Bicycle = Vehicle(\"MTB\", 2, 1, \"Round Peddles\")\n",
    "\n",
    "print(Bicycle.getEngineName())\n",
    "Bicycle.setEngineName(\"Geared Chains\")\n",
    "print(Bicycle.getEngineName())\n"
   ]
  },
  {
   "cell_type": "code",
   "execution_count": 14,
   "metadata": {},
   "outputs": [
    {
     "name": "stdout",
     "output_type": "stream",
     "text": [
      "Inside Parent Class\n",
      "This is the child Var: Inside Child Class\n"
     ]
    }
   ],
   "source": [
    "#Question 5 -> Its just writing same method name, and arguments with same different definition\n",
    "class Parent:\n",
    "    def __init__(self):\n",
    "        self.var = \"Inside Parent Class\"\n",
    "\n",
    "    def printVar(self):\n",
    "        print(self.var)\n",
    "\n",
    "class Child(Parent):\n",
    "    def __init__(self):\n",
    "        self.childvar = \"Inside Child Class\"\n",
    "    \n",
    "    def printVar(self):\n",
    "        print(\"This is the child Var:\", self.childvar)\n",
    "\n",
    "\n",
    "object1 = Parent()\n",
    "object2 = Child()\n",
    "\n",
    "object1.printVar()\n",
    "object2.printVar()"
   ]
  },
  {
   "cell_type": "code",
   "execution_count": null,
   "metadata": {},
   "outputs": [],
   "source": []
  }
 ],
 "metadata": {
  "kernelspec": {
   "display_name": "Python 3",
   "language": "python",
   "name": "python3"
  },
  "language_info": {
   "codemirror_mode": {
    "name": "ipython",
    "version": 3
   },
   "file_extension": ".py",
   "mimetype": "text/x-python",
   "name": "python",
   "nbconvert_exporter": "python",
   "pygments_lexer": "ipython3",
   "version": "3.11.2"
  },
  "orig_nbformat": 4
 },
 "nbformat": 4,
 "nbformat_minor": 2
}
