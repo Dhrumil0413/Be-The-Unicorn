{
 "cells": [
  {
   "cell_type": "code",
   "execution_count": 1,
   "metadata": {},
   "outputs": [
    {
     "name": "stdout",
     "output_type": "stream",
     "text": [
      "[('Virat Kohli', 24936), ('Jack Kallis', 25534), ('Ricky Ponting', 27483), ('Sachin Tendulkar', 34357)]\n"
     ]
    }
   ],
   "source": [
    "#Question 1\n",
    "Listedtuples = [('Sachin Tendulkar', 34357), ('Ricky Ponting', 27483), ('Jack Kallis', 25534), ('Virat Kohli', 24936)]\n",
    "\n",
    "Listedtuples.sort(key = lambda x : x[1])\n",
    "\n",
    "print(Listedtuples)"
   ]
  },
  {
   "cell_type": "code",
   "execution_count": 2,
   "metadata": {},
   "outputs": [
    {
     "name": "stdout",
     "output_type": "stream",
     "text": [
      "[1, 4, 9, 16, 25, 36, 49, 64, 81, 100]\n"
     ]
    }
   ],
   "source": [
    "# Question 2\n",
    "\n",
    "list1 = [1,2,3,4,5,6,7,8,9,10]\n",
    "squarelist = list(map(lambda x : x**2, list1))\n",
    "print(squarelist)"
   ]
  },
  {
   "cell_type": "code",
   "execution_count": 3,
   "metadata": {},
   "outputs": [
    {
     "name": "stdout",
     "output_type": "stream",
     "text": [
      "['1', '2', '3', '4', '5', '6', '7', '8', '9', '10']\n"
     ]
    }
   ],
   "source": [
    "#Question 3\n",
    "\n",
    "intlist = [1, 2, 3, 4, 5, 6, 7, 8, 9, 10]\n",
    "stringlist = list(map(lambda x: str(x), intlist))\n",
    "print(stringlist)\n",
    "\n"
   ]
  },
  {
   "cell_type": "code",
   "execution_count": 4,
   "metadata": {},
   "outputs": [
    {
     "name": "stdout",
     "output_type": "stream",
     "text": [
      "15511210043330985984000000\n"
     ]
    }
   ],
   "source": [
    "#Question 4\n",
    "from functools import reduce\n",
    "intlist = list(range(1,26))\n",
    "\n",
    "resultedlist = reduce(lambda x, y: x * y, intlist)\n",
    "\n",
    "print(resultedlist)"
   ]
  },
  {
   "cell_type": "code",
   "execution_count": 5,
   "metadata": {},
   "outputs": [
    {
     "name": "stdout",
     "output_type": "stream",
     "text": [
      "[6, 60, 90, 120]\n"
     ]
    }
   ],
   "source": [
    "#Question 5\n",
    "\n",
    "intlist = [2,3,4,6,9,27,60,90,120,55,46]\n",
    "filteredlist = list(filter(lambda x: x % 2 == 0 and x % 3 == 0, intlist))\n",
    "print(filteredlist)"
   ]
  },
  {
   "cell_type": "code",
   "execution_count": 6,
   "metadata": {},
   "outputs": [
    {
     "name": "stdout",
     "output_type": "stream",
     "text": [
      "['php', 'aba', 'radar', 'level']\n"
     ]
    }
   ],
   "source": [
    "# Question 6\n",
    "\n",
    "strlist = ['python', 'php', 'aba', 'radar', 'level']\n",
    "fileredlist = list(filter(lambda x: x == x[::-1], strlist))\n",
    "print(fileredlist)"
   ]
  }
 ],
 "metadata": {
  "kernelspec": {
   "display_name": "Python 3",
   "language": "python",
   "name": "python3"
  },
  "language_info": {
   "codemirror_mode": {
    "name": "ipython",
    "version": 3
   },
   "file_extension": ".py",
   "mimetype": "text/x-python",
   "name": "python",
   "nbconvert_exporter": "python",
   "pygments_lexer": "ipython3",
   "version": "3.11.2"
  },
  "orig_nbformat": 4
 },
 "nbformat": 4,
 "nbformat_minor": 2
}
