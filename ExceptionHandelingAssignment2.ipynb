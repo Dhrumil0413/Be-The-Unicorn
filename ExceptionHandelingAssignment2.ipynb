{
 "cells": [
  {
   "attachments": {},
   "cell_type": "markdown",
   "metadata": {},
   "source": [
    "Question 1\n",
    "->  Because Exception class can handle the exception occured in the try block. And custom exception will give more code readability to user."
   ]
  },
  {
   "cell_type": "code",
   "execution_count": 13,
   "metadata": {},
   "outputs": [],
   "source": [
    "# Question 2\n",
    "\n",
    "import logging\n",
    "\n",
    "logging.basicConfig(filename = 'third.log', level = logging.ERROR, format = '%(name)s - %(asctime)s - %(filename)s - %(message)s')\n",
    "\n",
    "try:\n",
    "    x = 10\n",
    "    x = x / 0\n",
    "    logging.info(\"The x has value of {}\".format(x))\n",
    "except Exception as e:\n",
    "    logging.error(\"The error has been raised {}\".format(e))\n",
    "\n",
    "try:\n",
    "    value = \"I am IronMan\"\n",
    "    value = int(value)\n",
    "    logging.info(\"The value has been convereted to integer and it is {}\".format(\"values\"))\n",
    "except Exception as e:\n",
    "    logging.error(\"The error has been raised {}\".format(e))\n",
    "\n",
    "try:\n",
    "    with open(\"second.log\", 'r') as File:\n",
    "        word = File.read()\n",
    "        print(word)\n",
    "except Exception as e:\n",
    "    logging.error(\"The file is not opening {}\".format(e))\n",
    "else:\n",
    "    File.close()\n",
    "\n",
    "\n",
    "try:\n",
    "    Array = [10,33,\"IronMan\", \"Hulk\", \"BaseException\"]\n",
    "    Array[10] = \"Values\"\n",
    "except Exception as e:\n",
    "    logging.error(\"Error Type: {}\".format(e))\n",
    "\n",
    "try:\n",
    "    Dictionary = {\n",
    "        \"Name\" : 'IronMan',\n",
    "        \"CompanyName\" : \"Stark Industries\",\n",
    "        \"Exception\" : \"KeyError\" \n",
    "    }\n",
    "    Dictionary[\"NoException\"] = \"ValuesAreNotfound\"\n",
    "except Exception as e:\n",
    "    logging.error(\"Error Type: {}\".format(e))\n"
   ]
  },
  {
   "cell_type": "code",
   "execution_count": 6,
   "metadata": {},
   "outputs": [],
   "source": [
    "#Question 3 -> ZeroDivisionError, FloatingPointError, OverflowError\n",
    "import logging\n",
    "import math\n",
    "logging.basicConfig(filename = 'review.log', filemode = 'w', level = 'ERROR')\n",
    "\n",
    "try:\n",
    "    x = 10\n",
    "    x = x / 0\n",
    "    print(x)\n",
    "except ZeroDivisionError as e:\n",
    "    logging.error(\"Declared number is Divided by Zero\".format(e))\n",
    "\n",
    "try:\n",
    "    y = math.exp(10101)\n",
    "    print(y)\n",
    "except OverflowError as e:\n",
    "    logging.error(\"The Integer is too large to fit\".format(e))"
   ]
  },
  {
   "attachments": {},
   "cell_type": "markdown",
   "metadata": {},
   "source": [
    "Question 4:\n",
    "-> LookUpError is Base class for IndexError and KeyError. And it is raised when invalid index or key is used when mapping list or the dictionary."
   ]
  },
  {
   "attachments": {},
   "cell_type": "markdown",
   "metadata": {},
   "source": [
    "Question 5:\n",
    "-> ImportError is raised when any module has trouble trying to be imported in file.\n",
    "-> ModuleNotFoundError is raised when any module cannot be found in dierctory doesn't exist."
   ]
  },
  {
   "attachments": {},
   "cell_type": "markdown",
   "metadata": {},
   "source": [
    "Question 6:\n",
    "-> Always try to use try, and excception blocks in code where user from outside intervenes the program.\n",
    "-> Use logging to save error messagess for future references."
   ]
  },
  {
   "cell_type": "code",
   "execution_count": null,
   "metadata": {},
   "outputs": [],
   "source": []
  }
 ],
 "metadata": {
  "kernelspec": {
   "display_name": "Python 3",
   "language": "python",
   "name": "python3"
  },
  "language_info": {
   "codemirror_mode": {
    "name": "ipython",
    "version": 3
   },
   "file_extension": ".py",
   "mimetype": "text/x-python",
   "name": "python",
   "nbconvert_exporter": "python",
   "pygments_lexer": "ipython3",
   "version": "3.11.2"
  },
  "orig_nbformat": 4
 },
 "nbformat": 4,
 "nbformat_minor": 2
}
