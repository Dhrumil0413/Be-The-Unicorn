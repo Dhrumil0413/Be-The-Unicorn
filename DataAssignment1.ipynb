{
 "cells": [
  {
   "attachments": {},
   "cell_type": "markdown",
   "metadata": {},
   "source": [
    "Q1. What are the charactersistic of the Tuple? Is tuple immuntable?\n",
    "-> Syntax of tuple is in between () brackets. And it is immutable. It's elements can be accessed through indexing in []"
   ]
  },
  {
   "attachments": {},
   "cell_type": "markdown",
   "metadata": {},
   "source": [
    "Q2. What are the two tuple methods in python? Give an example of each method. Give a reason why\n",
    "tuples have only two in-built methods as compared to Lists.\n"
   ]
  },
  {
   "cell_type": "code",
   "execution_count": 4,
   "metadata": {},
   "outputs": [
    {
     "name": "stdout",
     "output_type": "stream",
     "text": [
      "4\n",
      "2\n"
     ]
    }
   ],
   "source": [
    "#First one is count()\n",
    "Tuple = (192,235,23,23,192,28,192,29,10,192,2362,23562)\n",
    "print(Tuple.count(192))\n",
    "#Second is index()\n",
    "print(Tuple.index(23))"
   ]
  },
  {
   "cell_type": "code",
   "execution_count": 5,
   "metadata": {},
   "outputs": [
    {
     "name": "stdout",
     "output_type": "stream",
     "text": [
      "[1, 2, 3, 4]\n"
     ]
    }
   ],
   "source": [
    "#Q3.\n",
    "#-> Set Data type doesn't allow duplicates\n",
    "List = [1, 1, 1, 2, 1, 3, 1, 4, 2, 1, 2, 2, 2, 3, 2, 4, 3, 1, 3, 2, 3, 3, 3, 4, 4, 1, 4, 2, 4, 3, 4, 4]\n",
    "List = set(List)\n",
    "List = list(List)\n",
    "print(List)\n",
    "#Output is [1,2,3,4]"
   ]
  },
  {
   "cell_type": "code",
   "execution_count": 7,
   "metadata": {},
   "outputs": [
    {
     "name": "stdout",
     "output_type": "stream",
     "text": [
      "{'Wednesday', 'Tuesday', 'Monday'}\n",
      "{'Friday', 'Monday', 'Tuesday', 'Saturday', 'Sunday', 'Wednesday', 'Thursday'}\n",
      "{'Friday', 'Monday', 'Tuesday', 'Saturday', 'Sunday', 'Wednesday', 'Thursday'}\n"
     ]
    }
   ],
   "source": [
    "#Q4\n",
    "DayA = {'Monday', 'Tuesday', 'Wednesday'}\n",
    "DayB = {'Wednesday', 'Thursday', 'Friday', 'Saturday', 'Sunday'}\n",
    "print(DayA)\n",
    "#union method returns set that have non repeated elements of both sets\n",
    "UnionDays = DayA.union(DayB)\n",
    "print(UnionDays)\n",
    "#Update method updtaes given set with argumeted set without repeating elemetns\n",
    "DayA.update(DayB)\n",
    "print(DayA)"
   ]
  },
  {
   "cell_type": "code",
   "execution_count": 8,
   "metadata": {},
   "outputs": [
    {
     "name": "stdout",
     "output_type": "stream",
     "text": [
      "{'Apple': 'Red', 'Orange': 'Orange', 'Banana': 'Yellow', 'Kiwi': 'Brown'}\n"
     ]
    }
   ],
   "source": [
    "#Q5\n",
    "#-> Dictionary is Data Collection Object in python Which is used to store values in ordered manner. And data in it can be accessed by keys\n",
    "Fruits = {\n",
    "    'Apple' : 'Red',\n",
    "    'Orange': 'Orange',\n",
    "    'Banana': 'Yellow',\n",
    "    'Kiwi'  : 'Brown'\n",
    "}\n",
    "print(Fruits)"
   ]
  },
  {
   "cell_type": "code",
   "execution_count": 17,
   "metadata": {},
   "outputs": [
    {
     "data": {
      "text/plain": [
       "{'Apple': 'Red',\n",
       " 'Orange': 'Orange',\n",
       " ('ApriCot',\n",
       "  'BarhiDates',\n",
       "  'Bananas',\n",
       "  'Eggfruit',\n",
       "  'GoldenKiwi',\n",
       "  'GrapeFruit'): 'Yellow',\n",
       " 'Veggies': ['Lettuce', 'Tomatoes', 'GreenPepper', 'Spinach', 'Onions'],\n",
       " 'GreenPeper': {'BananaPepper': 'Yellow',\n",
       "  'HotPepper': 'YelloisRed',\n",
       "  'ChilliPepper': 'Red'},\n",
       " 'Kiwi': 'Brown'}"
      ]
     },
     "execution_count": 17,
     "metadata": {},
     "output_type": "execute_result"
    }
   ],
   "source": [
    "#Q6 -> yes We can create dictionary with nested data\n",
    "Fruits = {\n",
    "    'Apple' : 'Red',\n",
    "    'Orange': 'Orange',\n",
    "    ('ApriCot', 'BarhiDates', 'Bananas', \"Eggfruit\", 'GoldenKiwi', \"GrapeFruit\"): 'Yellow',\n",
    "    'Veggies': ['Lettuce', 'Tomatoes', 'GreenPepper', 'Spinach', 'Onions'],\n",
    "    'GreenPeper': {'BananaPepper': \"Yellow\", 'HotPepper': \"YelloisRed\",\n",
    "                   'ChilliPepper': \"Red\"},\n",
    "    'Kiwi'  : 'Brown'\n",
    "}\n",
    "Fruits\n"
   ]
  },
  {
   "cell_type": "code",
   "execution_count": 19,
   "metadata": {},
   "outputs": [
    {
     "name": "stdout",
     "output_type": "stream",
     "text": [
      "['Python', 'Machine Learning', 'Deep Learning']\n"
     ]
    }
   ],
   "source": [
    "#Q7\n",
    "dict1 = {'language' : 'Python', 'course': 'Data Science Masters'}\n",
    "\n",
    "Y = dict1.setdefault('topics', ['Python', \"Machine Learning\", \"Deep Learning\"])\n",
    "print(dict1['topics'])"
   ]
  },
  {
   "cell_type": "code",
   "execution_count": 23,
   "metadata": {},
   "outputs": [
    {
     "name": "stdout",
     "output_type": "stream",
     "text": [
      "Cricket\n",
      "dict_items([('Sport', 'Cricket'), ('Teams', ['India', 'Australia', 'England', 'South Africa', 'Sri Lanka', 'New Zealand'])])\n",
      "dict_values(['Cricket', ['India', 'Australia', 'England', 'South Africa', 'Sri Lanka', 'New Zealand']])\n",
      "dict_keys(['Sport', 'Teams'])\n"
     ]
    }
   ],
   "source": [
    "#Q8\n",
    "#-> Three view objects in dictionary are items, keys and values\n",
    "dict1 = {'Sport': 'Cricket' , 'Teams': ['India', 'Australia', 'England', 'South Africa', 'Sri Lanka', 'New Zealand']}\n",
    "\n",
    "print(dict1['Sport'])\n",
    "print(dict1.items())\n",
    "print(dict1.values())\n",
    "print(dict1.keys())"
   ]
  },
  {
   "cell_type": "code",
   "execution_count": null,
   "metadata": {},
   "outputs": [],
   "source": []
  }
 ],
 "metadata": {
  "kernelspec": {
   "display_name": "Python 3",
   "language": "python",
   "name": "python3"
  },
  "language_info": {
   "codemirror_mode": {
    "name": "ipython",
    "version": 3
   },
   "file_extension": ".py",
   "mimetype": "text/x-python",
   "name": "python",
   "nbconvert_exporter": "python",
   "pygments_lexer": "ipython3",
   "version": "3.11.2"
  },
  "orig_nbformat": 4
 },
 "nbformat": 4,
 "nbformat_minor": 2
}
