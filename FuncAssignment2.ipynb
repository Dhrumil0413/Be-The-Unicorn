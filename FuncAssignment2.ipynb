{
 "cells": [
  {
   "attachments": {},
   "cell_type": "markdown",
   "metadata": {},
   "source": [
    "Question 1"
   ]
  },
  {
   "cell_type": "code",
   "execution_count": 3,
   "metadata": {},
   "outputs": [
    {
     "name": "stdout",
     "output_type": "stream",
     "text": [
      "[1, 2, 3, 4, 5, 6, 7, 8, 9, 10, 11, 12, 13, 14, 15, 16, 17, 18, 19, 20, 21, 22, 23, 24, 25]\n"
     ]
    }
   ],
   "source": [
    "#def keyword is used to create a function;\n",
    "\n",
    "def generate_range(len = 25):\n",
    "    list = []\n",
    "    for i in range(1, len+1):\n",
    "        list.append(i)\n",
    "    return list\n",
    "\n",
    "new_List = generate_range()\n",
    "print(new_List)"
   ]
  },
  {
   "attachments": {},
   "cell_type": "markdown",
   "metadata": {},
   "source": [
    "Question 2"
   ]
  },
  {
   "cell_type": "code",
   "execution_count": null,
   "metadata": {},
   "outputs": [],
   "source": [
    "def ArgsFunction(*Arguments):\n",
    "    list = []\n",
    "    for i in Arguments:\n",
    "        list.append(i)\n",
    "    print(list)\n",
    "    return list\n",
    "\n"
   ]
  },
  {
   "cell_type": "code",
   "execution_count": 7,
   "metadata": {},
   "outputs": [
    {
     "name": "stdout",
     "output_type": "stream",
     "text": [
      "{'First': 'Hashirama', 'Second': 'Tobirama', 'Third': 'Hiruzen', 'Fourth': 'Minato'}\n"
     ]
    }
   ],
   "source": [
    "def ValueFunction(**values):\n",
    "    dictionary = {}\n",
    "    for i in values:\n",
    "        dictionary.update({i: values[i]})\n",
    "    return dictionary\n",
    "\n",
    "new_Dictionary = ValueFunction(First = \"Hashirama\", Second  = \"Tobirama\", Third = \"Hiruzen\", Fourth = \"Minato\")\n",
    "print(new_Dictionary)"
   ]
  },
  {
   "attachments": {},
   "cell_type": "markdown",
   "metadata": {},
   "source": [
    "Question 3"
   ]
  },
  {
   "cell_type": "code",
   "execution_count": 28,
   "metadata": {},
   "outputs": [
    {
     "name": "stdout",
     "output_type": "stream",
     "text": [
      "2, 4, 6, 8, 10, "
     ]
    }
   ],
   "source": [
    "list = [2, 4, 6, 8, 10, 12, 14, 16, 18, 20]\n",
    "\n",
    "def PrimeNumebrs(len = 5):\n",
    "    for i in range(len):\n",
    "        yield list[i]\n",
    "\n",
    "for i in PrimeNumebrs():\n",
    "    print(i, end = ', ')"
   ]
  },
  {
   "attachments": {},
   "cell_type": "markdown",
   "metadata": {},
   "source": [
    "Question 4\n",
    "-> A generator function uses keyword yield. Which is simliar like return keyword in any function but instead of returning value of an object and creating more space it just yields generator object it self making it more memory efficient."
   ]
  },
  {
   "cell_type": "code",
   "execution_count": 32,
   "metadata": {},
   "outputs": [
    {
     "name": "stdout",
     "output_type": "stream",
     "text": [
      "[0, 1, 2, 3, 4, 5, 6, 7, 8, 9]\n"
     ]
    }
   ],
   "source": [
    "# Example\n",
    "def generator_function():\n",
    "    for i in range(10):\n",
    "        yield i\n",
    "    \n",
    "newList = []\n",
    "for i in generator_function():\n",
    "    newList.append(i)\n",
    "\n",
    "print(newList)"
   ]
  },
  {
   "attachments": {},
   "cell_type": "markdown",
   "metadata": {},
   "source": [
    "Question 5"
   ]
  },
  {
   "cell_type": "code",
   "execution_count": 44,
   "metadata": {},
   "outputs": [
    {
     "name": "stdout",
     "output_type": "stream",
     "text": [
      "2 3 5 7 9 11 13 15 17 19 21 23 25 27 29 31 33 35 37 39 "
     ]
    }
   ],
   "source": [
    "def PrimeNumbers():\n",
    "    yield 2\n",
    "    n = 3\n",
    "    for i in range(3, 1000):\n",
    "        isPrime = True\n",
    "        for j in range(2, n):\n",
    "            if i % j == 0:\n",
    "                isPrime = False\n",
    "        if isPrime:\n",
    "            yield i\n",
    "\n",
    "generator = PrimeNumbers()\n",
    "for i in range(20):\n",
    "    print(next(generator), end = ' ')"
   ]
  },
  {
   "cell_type": "code",
   "execution_count": null,
   "metadata": {},
   "outputs": [],
   "source": []
  }
 ],
 "metadata": {
  "kernelspec": {
   "display_name": "Python 3",
   "language": "python",
   "name": "python3"
  },
  "language_info": {
   "codemirror_mode": {
    "name": "ipython",
    "version": 3
   },
   "file_extension": ".py",
   "mimetype": "text/x-python",
   "name": "python",
   "nbconvert_exporter": "python",
   "pygments_lexer": "ipython3",
   "version": "3.11.2"
  },
  "orig_nbformat": 4
 },
 "nbformat": 4,
 "nbformat_minor": 2
}
