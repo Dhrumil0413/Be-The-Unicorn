{
 "cells": [
  {
   "attachments": {},
   "cell_type": "markdown",
   "metadata": {},
   "source": [
    "User Defined Functoins"
   ]
  },
  {
   "cell_type": "code",
   "execution_count": 1,
   "metadata": {},
   "outputs": [
    {
     "data": {
      "text/plain": [
       "'Hello World'"
      ]
     },
     "execution_count": 1,
     "metadata": {},
     "output_type": "execute_result"
    }
   ],
   "source": [
    "def test1():\n",
    "    return \"Hello World\"\n",
    "\n",
    "test1()"
   ]
  },
  {
   "cell_type": "code",
   "execution_count": 9,
   "metadata": {},
   "outputs": [
    {
     "name": "stdout",
     "output_type": "stream",
     "text": [
      "<class 'tuple'> (39, '23', 'Worldly illusion', (89+8j), True)\n"
     ]
    }
   ],
   "source": [
    "def Function():\n",
    "    return 39, '23', \"Worldly illusion\", 89+8j, True\n",
    "ReturnedValue = Function()\n",
    "ReturnedValue = (ReturnedValue)\n",
    "print(type(ReturnedValue), ReturnedValue)"
   ]
  },
  {
   "cell_type": "code",
   "execution_count": 11,
   "metadata": {},
   "outputs": [
    {
     "name": "stdout",
     "output_type": "stream",
     "text": [
      "30\n"
     ]
    },
    {
     "ename": "TypeError",
     "evalue": "unsupported operand type(s) for +: 'dict' and 'dict'",
     "output_type": "error",
     "traceback": [
      "\u001b[1;31m---------------------------------------------------------------------------\u001b[0m",
      "\u001b[1;31mTypeError\u001b[0m                                 Traceback (most recent call last)",
      "Cell \u001b[1;32mIn[11], line 7\u001b[0m\n\u001b[0;32m      4\u001b[0m     \u001b[39mreturn\u001b[39;00m a \u001b[39m+\u001b[39m b\n\u001b[0;32m      6\u001b[0m \u001b[39mprint\u001b[39m(Concatanator(\u001b[39m10\u001b[39m,\u001b[39m20\u001b[39m))\n\u001b[1;32m----> 7\u001b[0m \u001b[39mprint\u001b[39m(Concatanator(dict1, dict2))\n",
      "Cell \u001b[1;32mIn[11], line 4\u001b[0m, in \u001b[0;36mConcatanator\u001b[1;34m(a, b)\u001b[0m\n\u001b[0;32m      3\u001b[0m \u001b[39mdef\u001b[39;00m \u001b[39mConcatanator\u001b[39m(a, b):\n\u001b[1;32m----> 4\u001b[0m     \u001b[39mreturn\u001b[39;00m a \u001b[39m+\u001b[39;49m b\n",
      "\u001b[1;31mTypeError\u001b[0m: unsupported operand type(s) for +: 'dict' and 'dict'"
     ]
    }
   ],
   "source": [
    "dict1 = {'Sport': 'Cricket' , 'Teams': ['India', 'Australia', 'England', 'South Africa', 'Sri Lanka', 'New Zealand']}\n",
    "dict2 = {'language' : 'Python', 'course': 'Data Science Masters'}\n",
    "def Concatanator(a, b):\n",
    "    return a + b\n",
    "\n",
    "print(Concatanator(10,20))\n",
    "print(Concatanator(dict1, dict2)) #This will give an error because Dictionaries can not be added"
   ]
  },
  {
   "cell_type": "code",
   "execution_count": 12,
   "metadata": {},
   "outputs": [
    {
     "data": {
      "text/plain": [
       "(23, 35, 235, 23, 32, 2, 23, 6, 23, 2)"
      ]
     },
     "execution_count": 12,
     "metadata": {},
     "output_type": "execute_result"
    }
   ],
   "source": [
    "tuple1 = (23,35,235,23,32,2)\n",
    "tuple2 = (23,6,23,2)\n",
    "Concatanator(tuple1, tuple2)"
   ]
  },
  {
   "cell_type": "code",
   "execution_count": 21,
   "metadata": {},
   "outputs": [
    {
     "name": "stdout",
     "output_type": "stream",
     "text": [
      "[1, 2, 3.0, 4, 5, 'sudh', 'pwskills', 1, 2, 3.0, 34, 45]\n"
     ]
    }
   ],
   "source": [
    "lists = [1,2,3.0,4,5,\"sudh\" , \"pwskills\" , [1,2,3.0,34,45]]\n",
    "\n",
    "def Appender(lists):\n",
    "    empty_list = []\n",
    "    for i in lists:\n",
    "        if type(i) == list:\n",
    "            for j in i:\n",
    "                if type(j) == int or type(j) == float or type(j) == str:\n",
    "                    empty_list.append(j)\n",
    "        else:\n",
    "            if type(i) == int or type(i) == float or type(i) == str:\n",
    "                empty_list.append(i)\n",
    "    return empty_list\n",
    "\n",
    "newList = Appender(lists)\n",
    "\n",
    "print(newList)"
   ]
  },
  {
   "attachments": {},
   "cell_type": "markdown",
   "metadata": {},
   "source": [
    "Functions and Object values"
   ]
  },
  {
   "cell_type": "code",
   "execution_count": 43,
   "metadata": {},
   "outputs": [
    {
     "name": "stdout",
     "output_type": "stream",
     "text": [
      "15\n",
      "('Hashirama', 'Tobirama', 'Hiruzen', 'Minato', 'Tsunade', 'Kakashi', 'Naruto', 1, 2, 3, 4, 5, 6, 7, 8)\n"
     ]
    }
   ],
   "source": [
    "def ValueFunc(*values):\n",
    "    print(len(values))\n",
    "    print(values)\n",
    "\n",
    "ValueFunc(\"Hashirama\", \"Tobirama\", \"Hiruzen\", \"Minato\", \"Tsunade\", \"Kakashi\", \"Naruto\", 1,2,3,4,5,6,7,8)\n",
    "\n",
    "\n",
    "#Arguments with only one astrisk converts inputs into tuple and we can go through them by for loops\n"
   ]
  },
  {
   "cell_type": "code",
   "execution_count": 48,
   "metadata": {},
   "outputs": [
    {
     "name": "stdout",
     "output_type": "stream",
     "text": [
      "(2, 3, ['NightChanges', 'Snapping', 'DragonBallZ'])\n",
      "<class 'tuple'>\n",
      "(2, 3, ['NightChanges', 'Snapping', 'DragonBallZ'])\n",
      "Output: \n",
      "A: (2, 3, ['NightChanges', 'Swapping', 'DragonBallZ'])\n",
      "B: (34, 39, 239, 23932)\n",
      "C: ('Hashirama', 'Tobirama', 'Hiruzen', 'Minato', 'Tsunade', 'Kakashi', 'Naruto')\n"
     ]
    }
   ],
   "source": [
    "def valueFunc(**args):\n",
    "    for i in args:\n",
    "        if type(i) == list:\n",
    "            print(i)\n",
    "\n",
    "# Syntax *args takes n number of arguments and converts them into a tuple. Then you can write you own logic inside the function\n",
    "tuple1 = (2,3,[\"NightChanges\", \"Swapping\", \"DragonBallZ\"]) \n",
    "tuple2 = (34,39,239,23932)\n",
    "tuple3 = (\"Hashirama\", \"Tobirama\", \"Hiruzen\", \"Minato\", \"Tsunade\", \"Kakashi\", \"Naruto\")\n",
    "valueFunc(A = tuple1,B = tuple2,C = tuple3)\n",
    "print(tuple)\n",
    "tuple[2][1] = \"Snapping\"\n",
    "print(type(tuple))\n",
    "print(tuple)\n",
    "#conclusio a list inside the tuple can be changed but a tuple can't\n",
    "# A function can hav emany arguments and turn them into tuple and we can go through them by for loop\n",
    "\n",
    "def ValueFunc2(**args):\n",
    "    for i in args:\n",
    "        print(i, end = ': ')\n",
    "        print(args[i])\n",
    "\n",
    "\n",
    "print(\"Output: \", end = '\\n') #Just to get along with the print function of Python\n",
    "\n",
    "ValueFunc2(A = tuple1, B = tuple2, C = tuple3)"
   ]
  },
  {
   "cell_type": "code",
   "execution_count": 49,
   "metadata": {},
   "outputs": [
    {
     "ename": "SyntaxError",
     "evalue": "* argument may appear only once (1736526539.py, line 2)",
     "output_type": "error",
     "traceback": [
      "\u001b[1;36m  Cell \u001b[1;32mIn[49], line 2\u001b[1;36m\u001b[0m\n\u001b[1;33m    def func(*arguments, *values):\u001b[0m\n\u001b[1;37m                         ^\u001b[0m\n\u001b[1;31mSyntaxError\u001b[0m\u001b[1;31m:\u001b[0m * argument may appear only once\n"
     ]
    }
   ],
   "source": [
    "#Lets just experiments can we make two arguments as a list\n",
    "def func(*arguments, *values):\n",
    "#Like java and c++ only one list like argument is allowed"
   ]
  },
  {
   "cell_type": "code",
   "execution_count": 57,
   "metadata": {},
   "outputs": [
    {
     "name": "stdout",
     "output_type": "stream",
     "text": [
      "(['Apple', 'Banana', 'Orange', 'Kiwi', 'Mango'], [32, 90, 89, 34, 30])\n",
      "{'A': (2, 3, ['NightChanges', 'Swapping', 'DragonBallZ']), 'B': (34, 39, 239, 23932), 'C': ('Hashirama', 'Tobirama', 'Hiruzen', 'Minato', 'Tsunade', 'Kakashi', 'Naruto')}\n"
     ]
    }
   ],
   "source": [
    "#lets say if we are able to pass two one list like and one dictionary like arguements\n",
    "def func(*Arguments, **values):\n",
    "    print(Arguments)\n",
    "    print(values)\n",
    "\n",
    "\n",
    "TestList = [\"Apple\", \"Banana\", \"Orange\", \"Kiwi\", \"Mango\"]\n",
    "tuple1 = (2,3,[\"NightChanges\", \"Swapping\", \"DragonBallZ\"]) \n",
    "tuple2 = (34,39,239,23932)\n",
    "tuple3 = (\"Hashirama\", \"Tobirama\", \"Hiruzen\", \"Minato\", \"Tsunade\", \"Kakashi\", \"Naruto\")\n",
    "#Positional Arguments matter in python. As defined in the definition of the the function when you pass the values in the function the order should be the same\n",
    "func(TestList, [32,90,89,34,30], A = tuple1, B = tuple2, C = tuple3)"
   ]
  },
  {
   "attachments": {},
   "cell_type": "markdown",
   "metadata": {},
   "source": [
    "Generator Functions And yield Keyword"
   ]
  },
  {
   "cell_type": "code",
   "execution_count": 68,
   "metadata": {},
   "outputs": [
    {
     "name": "stdout",
     "output_type": "stream",
     "text": [
      "0\n",
      "1\n",
      "1\n",
      "2\n",
      "3\n",
      "5\n",
      "8\n",
      "13\n",
      "21\n",
      "34\n"
     ]
    }
   ],
   "source": [
    "def Fibonacci(length):\n",
    "    a = 0\n",
    "    b = 1\n",
    "    container = 0\n",
    "    print(a)\n",
    "    print(b)\n",
    "    for i in range(0, length-2):\n",
    "        container = b\n",
    "        b = a + b\n",
    "        yield b\n",
    "        a = container\n",
    "    \n",
    "for i in Fibonacci(10):\n",
    "    print(i)\n",
    "\n"
   ]
  },
  {
   "cell_type": "code",
   "execution_count": null,
   "metadata": {},
   "outputs": [],
   "source": []
  }
 ],
 "metadata": {
  "kernelspec": {
   "display_name": "Python 3",
   "language": "python",
   "name": "python3"
  },
  "language_info": {
   "codemirror_mode": {
    "name": "ipython",
    "version": 3
   },
   "file_extension": ".py",
   "mimetype": "text/x-python",
   "name": "python",
   "nbconvert_exporter": "python",
   "pygments_lexer": "ipython3",
   "version": "3.11.2"
  },
  "orig_nbformat": 4
 },
 "nbformat": 4,
 "nbformat_minor": 2
}
