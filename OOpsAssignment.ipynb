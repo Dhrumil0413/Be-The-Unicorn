{
 "cells": [
  {
   "attachments": {},
   "cell_type": "markdown",
   "metadata": {},
   "source": [
    "Question 1\n",
    "-> open() function is used to open a file.\n",
    "different modes of opening a file by argument\n",
    "Mode -> Description\n",
    "##### 'r' -> Open a file for reading. (It is set to default)\n",
    "##### 'w' -> Open a file for writing. Creates a new file if named file does not exist at that location.\n",
    "##### 'x' -> Open a file for exculsive creation. IF the file already exists, the operation fails.\n",
    "##### 'a' -> Open a file for appending at the end of the file. Creates a new file if it does not exist.\n",
    "##### 't' -> Open in a text mode. (It is set to default)\n",
    "##### 'b' -> Open in binary mode.\n",
    "##### '+' -> Opne a file for updating (reading and writing) 'r+b'"
   ]
  },
  {
   "attachments": {},
   "cell_type": "markdown",
   "metadata": {},
   "source": [
    "Question 2\n",
    "-> When open() method is used some memory is allocated to that object. And after work is done on the file it is good to deallocate the memory allocated. That is why close() method is used. Which is destrutor (deleter) for inputfile onject."
   ]
  },
  {
   "cell_type": "code",
   "execution_count": 28,
   "metadata": {},
   "outputs": [
    {
     "name": "stdout",
     "output_type": "stream",
     "text": [
      "I want to become a Data Scientist\n",
      "This is second line\n",
      "\n"
     ]
    }
   ],
   "source": [
    "#Question 3:\n",
    "\n",
    "with open(\"text.txt\", 'w') as textfile:\n",
    "    textfile.write(\"I want to become a Data Scientist\\nThis is second line\")\n",
    "\n",
    "with open('text.txt', 'r') as textfile:\n",
    "    readline = textfile.read()\n",
    "    secondline = textfile.read()\n",
    "    print(readline)\n",
    "    print(secondline)\n",
    "            \n",
    "    "
   ]
  },
  {
   "cell_type": "code",
   "execution_count": null,
   "metadata": {},
   "outputs": [],
   "source": [
    "#Question 4:\n",
    "\n",
    "\"\"\"\n",
    "read(): Just reads from a file and make every line like a string and stores it into an object\n",
    "readline(): Just reads only one line of a file.\n",
    "readlines(): Read all line of the file and stores individual line as an element of list.\n",
    "\"\"\""
   ]
  },
  {
   "cell_type": "code",
   "execution_count": null,
   "metadata": {},
   "outputs": [],
   "source": [
    "#Question 5:\n",
    "\"\"\"It is good practice to close() file after opening it. Because it deallocates the memory. But sometimes due to the complexity of code a programmer might forget to close the file. Therefore using synax of 'with open() as file:' will give user advantage of not remembering to close() a file.\"\"\""
   ]
  },
  {
   "cell_type": "code",
   "execution_count": 39,
   "metadata": {},
   "outputs": [
    {
     "name": "stdout",
     "output_type": "stream",
     "text": [
      "25\n",
      "I want to become a Hokage\n",
      "I want to be a Hokage\n",
      "\n",
      "I want to be the king of the Pirates\n",
      "\n",
      "I want to be a Hashira\n",
      "\n",
      "I will kill a the titans out there\n",
      "\n"
     ]
    }
   ],
   "source": [
    "#Question 6\n",
    "\n",
    "WishList = [\"I want to be a Hokage\\n\", \"I want to be the king of the Pirates\\n\", \"I want to be a Hashira\\n\", \"I will kill a the titans out there\\n\"]\n",
    "lineCount = 0\n",
    "with open('text.txt', 'w') as textfile:\n",
    "    lineCount = textfile.write(\"I want to become a Hokage\")\n",
    "    print(lineCount)\n",
    "    textfile.writelines(WishList)\n",
    "\n",
    "with open('text.txt', 'r') as textfile:\n",
    "    firstwords = textfile.read(lineCount)\n",
    "    print(firstwords)\n",
    "    readtext = textfile.readlines()\n",
    "\n",
    "    for i in readtext:\n",
    "        print(i)\n",
    "    \n",
    "\n"
   ]
  }
 ],
 "metadata": {
  "kernelspec": {
   "display_name": "Python 3",
   "language": "python",
   "name": "python3"
  },
  "language_info": {
   "codemirror_mode": {
    "name": "ipython",
    "version": 3
   },
   "file_extension": ".py",
   "mimetype": "text/x-python",
   "name": "python",
   "nbconvert_exporter": "python",
   "pygments_lexer": "ipython3",
   "version": "3.11.2"
  },
  "orig_nbformat": 4
 },
 "nbformat": 4,
 "nbformat_minor": 2
}
