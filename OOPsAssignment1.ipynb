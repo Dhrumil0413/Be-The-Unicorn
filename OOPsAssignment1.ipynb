{
 "cells": [
  {
   "attachments": {},
   "cell_type": "markdown",
   "metadata": {},
   "source": [
    "Question 1\n",
    "-> Class is just a template of different data types. It has Data of perticular instance and methods of it as well. And Object is just instance of that class. Which can be defined as a variable. Class can only be one. But Object can be defined as so many instances of same class. "
   ]
  },
  {
   "cell_type": "code",
   "execution_count": 7,
   "metadata": {},
   "outputs": [
    {
     "name": "stdout",
     "output_type": "stream",
     "text": [
      "ID of  Dhrumil Vaghasiya  is:  20049232\n",
      "ID of  Jannie Yeager  is:  202930293\n",
      "<class 'int'>\n",
      "<class 'str'>\n"
     ]
    }
   ],
   "source": [
    "class Student:\n",
    "    def __init__(self, name, id, phone):\n",
    "        self.name = name\n",
    "        self.id = id\n",
    "        self.phone = phone\n",
    "\n",
    "    def getInfo(self):\n",
    "        return self.name, self.id, self.phone\n",
    "    \n",
    "Dhrumil = Student(\"Dhrumil Vaghasiya\", 20049232, 3063512304)\n",
    "Jannie = Student(\"Jannie Yeager\", \"202930293\", True)\n",
    "\n",
    "print(\"ID of \", Dhrumil.name, \" is: \", Dhrumil.id)\n",
    "print(\"ID of \", Jannie.name, \" is: \", Jannie.id)\n",
    "print(type(Dhrumil.id))\n",
    "print(type(Jannie.id))\n"
   ]
  },
  {
   "attachments": {},
   "cell_type": "markdown",
   "metadata": {},
   "source": [
    "Question 2\n",
    "-> Inheritence, Polymorphism, Abstraction, Ecapsulation"
   ]
  },
  {
   "attachments": {},
   "cell_type": "markdown",
   "metadata": {},
   "source": [
    "Question 3\n",
    "-> The __init__() constructor is used to initialize the memeber variable of teh class. And do the operation at the time of instance declaration."
   ]
  },
  {
   "attachments": {},
   "cell_type": "markdown",
   "metadata": {},
   "source": [
    "Question 4 -> self is used to refer to the location reference to same instance. And first it takes that instance it self an input."
   ]
  },
  {
   "attachments": {},
   "cell_type": "markdown",
   "metadata": {},
   "source": [
    "Question 5 -> Inheritance makes it easier to use create a class that can use properties and member variable of other class. Here the class the inherites the properties is called chlid class and the class that is inherited is called parent class.\n",
    "\n",
    "1. Single Inheritance: In which only one parent calss is inherited into a child class.\n",
    "2. Multiple Inheritance: In which more than one parent calass are inherited into a child class.\n",
    "3. Multilevel Inheritance: In which one parent class is inherited via intermideatery class into a chlid class.\n",
    "4. Hierarchial Inheritance: In which one base class in inherited into other child class and those classes are inherited into other child class like the form of family tree or hirarchial form.\n",
    "5. Hybrid Inheritance: Which includes multilevel and single inheritance.\n",
    "\n"
   ]
  },
  {
   "cell_type": "code",
   "execution_count": 2,
   "metadata": {},
   "outputs": [],
   "source": [
    "#Single Inheritance:\n",
    "class Companies:\n",
    "    Company_Name = None\n",
    "    Company_Location = None\n",
    "    Company_CEO = None\n",
    "    def __init__(self, name, location, ceo):\n",
    "        self.Company_Name = name\n",
    "        self.Company_Location = location\n",
    "        self.Company_CEO = ceo\n",
    "\n",
    "\n",
    "class CarCompanies(Companies):\n",
    "    CarModels = None\n",
    "    def __init__(self, name, location, ceo, Carlist):\n",
    "        self.CarModels = Carlist\n",
    "        super().__init__(name, location, ceo)\n",
    "\n",
    "    "
   ]
  },
  {
   "cell_type": "code",
   "execution_count": 3,
   "metadata": {},
   "outputs": [],
   "source": [
    "#Multiple Inheritance:\n",
    "class Companies:\n",
    "    Company_Name = None\n",
    "    Company_Location = None\n",
    "    Company_CEO = None\n",
    "    def __init__(self, name, location, ceo):\n",
    "        self.Company_Name = name\n",
    "        self.Company_Location = location\n",
    "        self.Company_CEO = ceo\n",
    "\n",
    "class InsuranceCompanies():\n",
    "    CarInsurancePlans = None\n",
    "    def __init__(self, insuranceList):\n",
    "        self.CarInsurancePlans = insuranceList\n",
    "\n",
    "class CarCompanies(Companies, InsuranceCompanies):\n",
    "    CarModels = None\n",
    "    def __init__(self, name, location, ceo, Carlist, insuranceList):\n",
    "        Companies.__init__(name, location, ceo)\n",
    "        InsuranceCompanies.__init_subclass__(insuranceList)\n",
    "        self.CarModels = Carlist\n"
   ]
  },
  {
   "cell_type": "code",
   "execution_count": 5,
   "metadata": {},
   "outputs": [],
   "source": [
    "#Multileve Inheritance\n",
    "class Companies:\n",
    "    Company_Name = None\n",
    "    Company_Location = None\n",
    "    Company_CEO = None\n",
    "    def __init__(self, name, location, ceo):\n",
    "        self.Company_Name = name\n",
    "        self.Company_Location = location\n",
    "        self.Company_CEO = ceo\n",
    "\n",
    "class InsuranceCompanies(Companies):\n",
    "    CarInsurancePlans = None\n",
    "    def __init__(self, name, location, ceo, insuranceList):\n",
    "        Companies.__init__(name, location, ceo)\n",
    "        self.CarInsurancePlans = insuranceList\n",
    "\n",
    "class CarCompanies(Companies):\n",
    "    CarModels = None\n",
    "    def __init__(self, name, location, ceo, Carlist, insuranceList):\n",
    "        Companies.__init__(name, location, ceo)\n",
    "        self.CarModels = Carlist\n"
   ]
  },
  {
   "cell_type": "code",
   "execution_count": null,
   "metadata": {},
   "outputs": [],
   "source": [
    "#Hierarchial Inheritance\n",
    "#Parent class or Base class of all\n",
    "class Companies:\n",
    "    Company_Name = None\n",
    "    Company_Location = None\n",
    "    Company_CEO = None\n",
    "    def __init__(self, name, location, ceo):\n",
    "        self.Company_Name = name\n",
    "        self.Company_Location = location\n",
    "        self.Company_CEO = ceo\n",
    "\n",
    "#Inherits Companies class\n",
    "class InsuranceCompanies(Companies):\n",
    "    CarInsurancePlans = None\n",
    "    def __init__(self, name, location, ceo, insuranceList):\n",
    "        Companies.__init__(name, location, ceo)\n",
    "        self.CarInsurancePlans = insuranceList\n",
    "\n",
    "#Inherits Companies Class\n",
    "class CarCompanies(Companies):\n",
    "    CarModels = None\n",
    "    def __init__(self, name, location, ceo, Carlist):\n",
    "        Companies.__init__(name, location, ceo)\n",
    "        self.CarModels = Carlist\n",
    "\n",
    "#Inherits InsuranceCompanies\n",
    "class HealthInsuranceCompanies(InsuranceCompanies):\n",
    "    HealhInsurancePlans = None\n",
    "    def __init__(self, name, location, ceo, insuranceList, HealthinsuranceList):\n",
    "        InsuranceCompanies.__init__(name, location, ceo, insuranceList)\n",
    "        self.HealthInsuranceCompanies = HealthinsuranceList\n",
    "\n",
    "#Inherits CarCompanies\n",
    "class ElectricCarCompanie(CarCompanies):\n",
    "    ElectricModels = None\n",
    "    def __init__(self, name, location, ceo, Carlist, ElectricCarsList):\n",
    "        CarCompanies.__init__(name, location, ceo, Carlist)\n",
    "        self.ElectricModels = ElectricCarsList"
   ]
  },
  {
   "cell_type": "code",
   "execution_count": 6,
   "metadata": {},
   "outputs": [],
   "source": [
    "#Hybrid Inheritance\n",
    "class A:\n",
    "    var1 = None\n",
    "    Var2 = None\n",
    "    def __init__(self, var1, var2):\n",
    "        self.var1 = var1\n",
    "        self.var2 = var2\n",
    "\n",
    "class B(A): \n",
    "    var3 = None \n",
    "    def __init__(self, var1, var2, var3):\n",
    "        self.var3 = var3\n",
    "        A.__init__(var1, var2)\n",
    "\n",
    "class C(B):\n",
    "    var4 = None\n",
    "    def __init__(self, var1, var2, var3, var4):\n",
    "        self.var4 = var4\n",
    "        B.__init__(var1, var2, var3)\n",
    "\n",
    "class D(B):\n",
    "    var4 = None\n",
    "    def __init__(self, var1, var2, var3, var4):\n",
    "        self.var4 = var4\n",
    "        B.__init__(var1, var2, var3)\n"
   ]
  },
  {
   "cell_type": "code",
   "execution_count": null,
   "metadata": {},
   "outputs": [],
   "source": []
  }
 ],
 "metadata": {
  "kernelspec": {
   "display_name": "Python 3",
   "language": "python",
   "name": "python3"
  },
  "language_info": {
   "codemirror_mode": {
    "name": "ipython",
    "version": 3
   },
   "file_extension": ".py",
   "mimetype": "text/x-python",
   "name": "python",
   "nbconvert_exporter": "python",
   "pygments_lexer": "ipython3",
   "version": "3.11.2"
  },
  "orig_nbformat": 4
 },
 "nbformat": 4,
 "nbformat_minor": 2
}
