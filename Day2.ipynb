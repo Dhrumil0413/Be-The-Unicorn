{
 "cells": [
  {
   "attachments": {},
   "cell_type": "markdown",
   "metadata": {},
   "source": [
    "## Logic Operators\n",
    "##### OR\n",
    "##### AND\n",
    "##### NOT\n"
   ]
  },
  {
   "cell_type": "code",
   "execution_count": 9,
   "metadata": {},
   "outputs": [
    {
     "name": "stdout",
     "output_type": "stream",
     "text": [
      "False\n",
      "True\n",
      "False\n",
      "True\n",
      "True\n"
     ]
    }
   ],
   "source": [
    "print(bool(True and False))\n",
    "print(True and True)\n",
    "print(False or False)\n",
    "print(True or False)\n",
    "print(not False)\n"
   ]
  },
  {
   "cell_type": "code",
   "execution_count": 12,
   "metadata": {},
   "outputs": [
    {
     "data": {
      "text/plain": [
       "True"
      ]
     },
     "execution_count": 12,
     "metadata": {},
     "output_type": "execute_result"
    }
   ],
   "source": [
    "not bool(0)"
   ]
  },
  {
   "cell_type": "code",
   "execution_count": 22,
   "metadata": {},
   "outputs": [
    {
     "name": "stdout",
     "output_type": "stream",
     "text": [
      "True\n"
     ]
    }
   ],
   "source": [
    "x = [\"apple\", \"banana\", \"cherry\"]\n",
    "\n",
    "y = [\"apple\", \"banana\", \"Lips\"]\n",
    "\n",
    "print(x is not y)"
   ]
  },
  {
   "cell_type": "code",
   "execution_count": 44,
   "metadata": {},
   "outputs": [
    {
     "name": "stdout",
     "output_type": "stream",
     "text": [
      "Yes they are same.\n",
      "True\n",
      "['apple', 'banana', 'cherryLips']\n",
      "19483272     19381512\n",
      "19483272     19483272\n",
      "True\n",
      "['apple', 'banana', 'cherry']\n",
      "['apple', 'banana', 'cherry']\n"
     ]
    }
   ],
   "source": [
    "x = [\"apple\", \"banana\", \"cherry\"]\n",
    "\n",
    "y = [\"apple\", \"banana\", \"cherry\"]\n",
    "if (x == y):\n",
    "    print(\"Yes they are same.\")\n",
    "y[2] = 'cherryLips'\n",
    "# Remember == and is are not same \n",
    "''' \"is\" keyword just checks the reference of object that it is pointing towards.\n",
    "    Where as ==  checks if they both have same value.'''\n",
    "print(x is x) #Memory Addresses are same\n",
    "print(y)\n",
    "print(id(x), \"   \", id(y))\n",
    "y = x\n",
    "print(id(x), \"   \", id(y))\n",
    "print(x is y) #Memory Addresses are still same but variable names are different\n",
    "print(y)\n",
    "del y\n",
    "print(x)\n",
    "del x\n"
   ]
  },
  {
   "attachments": {},
   "cell_type": "markdown",
   "metadata": {},
   "source": [
    "# Mutable vs Immutable"
   ]
  },
  {
   "cell_type": "code",
   "execution_count": 47,
   "metadata": {},
   "outputs": [
    {
     "name": "stdout",
     "output_type": "stream",
     "text": [
      "Fruit Tuple:  ('23', 'banana', 'Apple', 'Fruits')\n",
      "FirstName [23, 235, 23521, 'ThirdName']\n"
     ]
    }
   ],
   "source": [
    "FString = \"FirstName\"\n",
    "list1 = [23,235,23521, \"SecondName\"]\n",
    "list1[3] = 'ThirdName'\n",
    "# String can't do this FString[1] = 'd'\n",
    "FirstTuple = ('23', 'banana', 'Apple', 'Fruits')\n",
    "F\n",
    "print(\"Fruit Tuple: \", FirstTuple)\n",
    "print(FString, list1)"
   ]
  },
  {
   "cell_type": "code",
   "execution_count": 49,
   "metadata": {},
   "outputs": [
    {
     "data": {
      "text/plain": [
       "'23'"
      ]
     },
     "execution_count": 49,
     "metadata": {},
     "output_type": "execute_result"
    }
   ],
   "source": [
    "FirstTuple[0] #Can be accessed through indexing but can't change the value store at that index"
   ]
  },
  {
   "attachments": {},
   "cell_type": "markdown",
   "metadata": {},
   "source": [
    "## Operators"
   ]
  },
  {
   "cell_type": "code",
   "execution_count": 55,
   "metadata": {},
   "outputs": [
    {
     "name": "stdout",
     "output_type": "stream",
     "text": [
      "17\n",
      "3\n",
      "70\n",
      "1.4285714285714286\n",
      "1\n",
      "3\n",
      "1.0\n",
      "3.0207000000000006\n"
     ]
    }
   ],
   "source": [
    "a = 10\n",
    "b = 7\n",
    "print(a + b)\n",
    "print(a - b)\n",
    "print(a * b)\n",
    "print(a / b) #Outupts value in floating point\n",
    "print(a // b) #Outputs value in rounded integer value\n",
    "print(a % b)\n",
    "a = 10.223\n",
    "b = 7.2023\n",
    "print(a // b) #outputs value in floating point but with round of value say Answer is(1.42857) but actually answer is (1.0)\n",
    "print(a%b) #outputs remainder"
   ]
  },
  {
   "cell_type": "code",
   "execution_count": 65,
   "metadata": {},
   "outputs": [
    {
     "data": {
      "text/plain": [
       "'0b1010'"
      ]
     },
     "execution_count": 65,
     "metadata": {},
     "output_type": "execute_result"
    }
   ],
   "source": [
    "variable = 10\n",
    "bin(variable)"
   ]
  },
  {
   "cell_type": "code",
   "execution_count": 64,
   "metadata": {},
   "outputs": [
    {
     "data": {
      "text/plain": [
       "-11"
      ]
     },
     "execution_count": 64,
     "metadata": {},
     "output_type": "execute_result"
    }
   ],
   "source": [
    "~variable"
   ]
  },
  {
   "cell_type": "code",
   "execution_count": 67,
   "metadata": {},
   "outputs": [
    {
     "name": "stdout",
     "output_type": "stream",
     "text": [
      "20\n",
      "5\n"
     ]
    }
   ],
   "source": [
    "print(variable << 1)\n",
    "print(variable >> 1)"
   ]
  },
  {
   "cell_type": "code",
   "execution_count": 70,
   "metadata": {},
   "outputs": [
    {
     "name": "stdout",
     "output_type": "stream",
     "text": [
      "ta Science\n"
     ]
    }
   ],
   "source": [
    "string1 = \"There are Data Science\"\n",
    "print(string1[-10:]) #Slicing operations"
   ]
  },
  {
   "cell_type": "code",
   "execution_count": 78,
   "metadata": {},
   "outputs": [
    {
     "name": "stdout",
     "output_type": "stream",
     "text": [
      "ecneicS ataD era erehT\n",
      "eeSt arT\n",
      "TeeaeDt cec\n",
      "There are Data Science\n"
     ]
    }
   ],
   "source": [
    "print(string1[::-1])\n",
    "print(string1[::-3])\n",
    "print(string1[::2])\n",
    "print(string1)"
   ]
  },
  {
   "cell_type": "code",
   "execution_count": 81,
   "metadata": {},
   "outputs": [
    {
     "name": "stdout",
     "output_type": "stream",
     "text": [
      "Science\n",
      "ecneicS\n"
     ]
    }
   ],
   "source": [
    "course_name = \"Data Science Masters\"\n",
    "\n",
    "print(course_name[5:12])\n",
    "print(course_name[-9:4:-1])"
   ]
  },
  {
   "cell_type": "code",
   "execution_count": 97,
   "metadata": {},
   "outputs": [
    {
     "name": "stdout",
     "output_type": "stream",
     "text": [
      "1\n",
      "5\n"
     ]
    }
   ],
   "source": [
    "print(course_name.count(\"i\"))\n",
    "print(string1.count('e'))"
   ]
  },
  {
   "cell_type": "code",
   "execution_count": 101,
   "metadata": {},
   "outputs": [
    {
     "name": "stdout",
     "output_type": "stream",
     "text": [
      "There Are Data Science\n"
     ]
    }
   ],
   "source": [
    "string1.split(' ')\n",
    "string1 = string1.title()\n",
    "print(string1)"
   ]
  },
  {
   "attachments": {},
   "cell_type": "markdown",
   "metadata": {},
   "source": [
    "Parition gives tuple separated by Argument value and Split gives list."
   ]
  },
  {
   "cell_type": "code",
   "execution_count": 132,
   "metadata": {},
   "outputs": [
    {
     "name": "stdout",
     "output_type": "stream",
     "text": [
      "There Are Data Science\n",
      "['There', 'Are', 'Data', 'Science']\n",
      "<class 'list'>\n",
      "('There', ' ', 'Are Data Science')\n",
      "<class 'tuple'>\n"
     ]
    }
   ],
   "source": [
    "FirstTuple = ('24', 'banana', 'Apple', 'Fruits')\n",
    "Stringlist = string1.split(' ')\n",
    "print(Stringlist)\n",
    "print(type(Stringlist)) #Gives list object as output <class 'list'>\n",
    "\n",
    "Stringlist = string1.partition(' ')\n",
    "print(Stringlist)\n",
    "#After paritioning the string data type with parition member functiono\n",
    "print(type(Stringlist)) # Returns tuple object as output <class 'tuple'>"
   ]
  },
  {
   "cell_type": "code",
   "execution_count": 121,
   "metadata": {},
   "outputs": [
    {
     "data": {
      "text/plain": [
       "complex"
      ]
     },
     "execution_count": 121,
     "metadata": {},
     "output_type": "execute_result"
    }
   ],
   "source": [
    "variable = 19 + 20j\n",
    "type(variable) # Complex Variable type\n",
    "# compiler is able to seperate obejct type with intger, complex."
   ]
  },
  {
   "cell_type": "code",
   "execution_count": 151,
   "metadata": {},
   "outputs": [
    {
     "name": "stdout",
     "output_type": "stream",
     "text": [
      "1\n",
      "2\n"
     ]
    }
   ],
   "source": [
    "NewString = \"There are many things to learn about Unicorns\"\n",
    "NewString = NewString.title()\n",
    "TupledString = NewString.split(' ')\n",
    "TupledString[2] = True\n",
    "TupledString = tuple(TupledString)\n",
    "print(TupledString.count(1))\n",
    "print(TupledString.index(1))"
   ]
  },
  {
   "cell_type": "code",
   "execution_count": 20,
   "metadata": {},
   "outputs": [
    {
     "name": "stdout",
     "output_type": "stream",
     "text": [
      "('Dhrumil', (10+19j), 9, 20, True)\n"
     ]
    }
   ],
   "source": [
    "# make a tuple\n",
    "t1 = (1,324,234,41,'Dhrumil', 10+19j, 9, 20, True)\n",
    "t1 = t1[-5:len(t1)]\n",
    "print(t1)"
   ]
  },
  {
   "cell_type": "code",
   "execution_count": 21,
   "metadata": {},
   "outputs": [
    {
     "name": "stdout",
     "output_type": "stream",
     "text": [
      "(True,)\n"
     ]
    }
   ],
   "source": [
    "print(t1[-1:3:-1])"
   ]
  },
  {
   "attachments": {},
   "cell_type": "markdown",
   "metadata": {},
   "source": [
    "Set and Uniqueness\n"
   ]
  },
  {
   "cell_type": "code",
   "execution_count": 1,
   "metadata": {},
   "outputs": [
    {
     "data": {
      "text/plain": [
       "dict"
      ]
     },
     "execution_count": 1,
     "metadata": {},
     "output_type": "execute_result"
    }
   ],
   "source": [
    "#Lets take a set s1\n",
    "s1 = {}\n",
    "type(s1)"
   ]
  },
  {
   "cell_type": "code",
   "execution_count": 3,
   "metadata": {},
   "outputs": [
    {
     "data": {
      "text/plain": [
       "{1, 2, 4, 23, 43, 64, 343, 2634, 3434}"
      ]
     },
     "execution_count": 3,
     "metadata": {},
     "output_type": "execute_result"
    }
   ],
   "source": [
    "#but fill in the data into the brackets\n",
    "s1 = {1,1,1,1,1,1,2,2,2,2,2,23,23,23,23,23,23,2634,43,64,4,3434,343}\n",
    "s1"
   ]
  },
  {
   "cell_type": "code",
   "execution_count": 4,
   "metadata": {},
   "outputs": [
    {
     "ename": "TypeError",
     "evalue": "unhashable type: 'list'",
     "output_type": "error",
     "traceback": [
      "\u001b[1;31m---------------------------------------------------------------------------\u001b[0m",
      "\u001b[1;31mTypeError\u001b[0m                                 Traceback (most recent call last)",
      "Cell \u001b[1;32mIn[4], line 2\u001b[0m\n\u001b[0;32m      1\u001b[0m \u001b[39m#lets just play with sets, lists and tuples\u001b[39;00m\n\u001b[1;32m----> 2\u001b[0m s1 \u001b[39m=\u001b[39m {\u001b[39m1023\u001b[39m,\u001b[39m23\u001b[39m,\u001b[39m2\u001b[39m,\u001b[39m32\u001b[39m,\u001b[39m23214\u001b[39m,\u001b[39m12\u001b[39m,[\u001b[39m32\u001b[39m,\u001b[39m235\u001b[39m,\u001b[39m102\u001b[39m,\u001b[39m23\u001b[39m,\u001b[39m23\u001b[39m],\u001b[39m32\u001b[39m,(\u001b[39m\"\u001b[39m\u001b[39mDhrumi\u001b[39m\u001b[39m\"\u001b[39m, \u001b[39m\"\u001b[39m\u001b[39mVaghasiya\u001b[39m\u001b[39m\"\u001b[39m, \u001b[39m\"\u001b[39m\u001b[39mApple\u001b[39m\u001b[39m\"\u001b[39m, \u001b[39m\"\u001b[39m\u001b[39mAdam\u001b[39m\u001b[39m\"\u001b[39m)}\n",
      "\u001b[1;31mTypeError\u001b[0m: unhashable type: 'list'"
     ]
    }
   ],
   "source": [
    "#lets just play with sets, lists and tuples\n",
    "s1 = {1023,23,2,32,23214,12,[32,235,102,23,23],32,(\"Dhrumi\", \"Vaghasiya\", \"Apple\", \"Adam\")}"
   ]
  },
  {
   "cell_type": "code",
   "execution_count": 6,
   "metadata": {},
   "outputs": [
    {
     "data": {
      "text/plain": [
       "{('Dhrumil', 'Adam', 'Lee', 'Naruto', 'Apple'),\n",
       " (12, 232, 102),\n",
       " 102,\n",
       " 20,\n",
       " 23,\n",
       " 235,\n",
       " True,\n",
       " 'True'}"
      ]
     },
     "execution_count": 6,
     "metadata": {},
     "output_type": "execute_result"
    }
   ],
   "source": [
    "Adam = \"Apple\"\n",
    "s1 = {102,23, \"True\", True, 20, (\"Dhrumil\", \"Adam\", \"Lee\", \"Naruto\", Adam), (12, 232, 102), 235}\n",
    "s1"
   ]
  },
  {
   "cell_type": "code",
   "execution_count": 17,
   "metadata": {},
   "outputs": [
    {
     "name": "stdout",
     "output_type": "stream",
     "text": [
      "234\n",
      "21234\n",
      "223\n",
      "223\n",
      "235\n",
      "2350293\n",
      "29384\n",
      "293940239\n",
      "292494045\n",
      "29029\n",
      "292\n",
      "29202393\n",
      "394302\n",
      "234\n",
      "23\n",
      "[23, 42, 23]\n",
      "242\n",
      "2452\n"
     ]
    }
   ],
   "source": [
    "List = [234,21234,223, 223, [235,2350293,29384,293940239,292494045,29029], 292,29202393,394302, [234,23,[23,42,23], 242,2452]]\n",
    "for i in List:\n",
    "    if (type(i) == list):\n",
    "        for j in i:\n",
    "            print(j)\n",
    "        continue\n",
    "    print(i)\n",
    "\n",
    "#conclusion: We can compare data types and object types int python\n",
    "#Multidimensional array are written like this"
   ]
  },
  {
   "cell_type": "code",
   "execution_count": 11,
   "metadata": {},
   "outputs": [
    {
     "name": "stdout",
     "output_type": "stream",
     "text": [
      "{1, 234, 11, 21234, 234235, 125, 223} <class 'set'>\n",
      "(1, 234, 11, 21234, 234235, 125, 223) <class 'tuple'>\n",
      "{1, 234, 11, 21234, 234235, 125, 223} <class 'set'>\n",
      "[1, 234, 11, 21234, 234235, 125, 223] <class 'list'>\n",
      "[20, 234, 11, 21234, 234235, 125, 223]\n"
     ]
    }
   ],
   "source": [
    "List = [234,21234,223, 223, 11,1,1,1,1,1,1,11,234235,125]\n",
    "List = set(List)\n",
    "print(List, type(List))\n",
    "List = tuple(List)\n",
    "print(List, type(List))\n",
    "List = set(List)\n",
    "print(List, type(List))\n",
    "List = list(List)\n",
    "print(List, type(List))\n",
    "List[0] = 20\n",
    "print(List)\n",
    "#conclusion of these tests we can convert lists into set, tuple and get them back with minimum sized possible by converting back into a list\n",
    "\n"
   ]
  },
  {
   "cell_type": "code",
   "execution_count": 40,
   "metadata": {},
   "outputs": [],
   "source": [
    "#Different Attributes of Sets\n",
    "Days1 = \"Monday,Tuesday,Wednesday\"\n",
    "Days2 = \"Wednesday,Thurseday,Friday,Saturday,Sunday\"\n",
    "Days1 = Days1.split(',')\n",
    "Days2 = Days2.split(',')\n",
    "Days1 = set(Days1)\n",
    "Dyas2 = set(Days2)"
   ]
  },
  {
   "cell_type": "code",
   "execution_count": 45,
   "metadata": {},
   "outputs": [
    {
     "name": "stdout",
     "output_type": "stream",
     "text": [
      "{'Saturday', 'Friday', 'March', 'Tuesday', 'Wednesday', 'Monday'}\n",
      "{'Friday', 'March', 'Tuesday', 'Wednesday', 'Monday'}\n",
      "{'March', 'Tuesday', 'Wednesday', 'Monday'}\n",
      "{'Tuesday', 'Wednesday', 'Monday'}\n"
     ]
    }
   ],
   "source": [
    "#By add function i have made my set like this {'Saturday', 'Friday', 'March', 'Tuesday', 'Wednesday', 'Monday'}\n",
    "#Data Added order is \"Friday\", \"Saturday\", \"March\"\n",
    "#Data Poped up Order is \"Saturday\", \"Friday\", \"March\"\n",
    "print(Days1)\n",
    "Days1.pop()\n",
    "print(Days1)\n",
    "Days1.pop()\n",
    "print(Days1)\n",
    "Days1.pop()\n",
    "print(Days1)\n"
   ]
  },
  {
   "cell_type": "code",
   "execution_count": null,
   "metadata": {},
   "outputs": [],
   "source": [
    "# Make a dictionoary\n",
    "FirstDictionary = {x: (x**2) + 5*x + 2 for x in range(1,1000001)}\n",
    "for i in FirstDictionary:\n",
    "    print(FirstDictionary[i])"
   ]
  },
  {
   "cell_type": "code",
   "execution_count": null,
   "metadata": {},
   "outputs": [],
   "source": []
  }
 ],
 "metadata": {
  "kernelspec": {
   "display_name": "Python 3",
   "language": "python",
   "name": "python3"
  },
  "language_info": {
   "codemirror_mode": {
    "name": "ipython",
    "version": 3
   },
   "file_extension": ".py",
   "mimetype": "text/x-python",
   "name": "python",
   "nbconvert_exporter": "python",
   "pygments_lexer": "ipython3",
   "version": "3.11.2"
  },
  "orig_nbformat": 4
 },
 "nbformat": 4,
 "nbformat_minor": 2
}
